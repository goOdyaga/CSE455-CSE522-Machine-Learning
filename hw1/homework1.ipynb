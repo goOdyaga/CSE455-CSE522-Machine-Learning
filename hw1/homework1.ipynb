{
 "cells": [
  {
   "cell_type": "markdown",
   "id": "8716b705",
   "metadata": {},
   "source": [
    "### PART 1 and 2"
   ]
  },
  {
   "cell_type": "code",
   "execution_count": 198,
   "id": "00a92912",
   "metadata": {},
   "outputs": [],
   "source": [
    "import numpy as np\n",
    "import pandas as pd\n",
    "import time\n",
    "from sklearn.svm import SVC\n",
    "from sklearn.svm import SVR\n",
    "from sklearn.metrics import accuracy_score\n",
    "import matplotlib.pyplot as  plt\n",
    "from sklearn.metrics import roc_curve\n",
    "from sklearn.tree import DecisionTreeClassifier\n",
    "from sklearn.tree import _tree\n",
    "\n",
    "class Reg_Clsfcn:\n",
    "    def __init__(self,fileName,k):\n",
    "        self.__fileName=fileName\n",
    "        self.__totTime=0\n",
    "        self.__accuracy_scores = []\n",
    "        self.__precision_scores = []\n",
    "        self.__recall_scores = []\n",
    "        self.__confusion_matrix = np.zeros((2, 2))\n",
    "        dataset = pd.read_csv(fileName)\n",
    "        self.__rules=[]\n",
    "\n",
    "        # Convert numeric columns to numbers, replace non-numeric values with NaN\n",
    "        df_numeric = dataset.apply(pd.to_numeric, errors='coerce')\n",
    "\n",
    "        # Replace NaN values with 0\n",
    "        dataset = df_numeric.fillna(0)\n",
    "        # Extract features (X) by selecting all columns except the last one (labels)\n",
    "        X = dataset.iloc[:, :-1].values\n",
    "\n",
    "        # Extract labels (y) by selecting the last column\n",
    "        y = dataset.iloc[:, -1].values\n",
    "        self.__feature_names = dataset.columns[:-1]\n",
    "        last_column_name = dataset.columns[-1]  # Assuming the last column is the target column\n",
    "        unique_values_last_column = dataset[last_column_name].unique()\n",
    "        self.__targetName=unique_values_last_column\n",
    "        self.__X=X\n",
    "        self.__y=y\n",
    "        \n",
    "    #Determine fold size this helper method\n",
    "    def __smallest_prime_divisor(self,threshold, number):\n",
    "        if threshold >= number:\n",
    "            return \n",
    "        current_number = max(threshold + 1, 2)  # Ensure we start from at least 2\n",
    "        while current_number < number:\n",
    "            if  number % current_number == 0:\n",
    "                return current_number\n",
    "            current_number += 1\n",
    "        return\n",
    "    \n",
    "    # Implement k-nearest neighbors (KNN) algorithm\n",
    "    def __knnCls(self,train_data_indices, test_data, k):\n",
    "\n",
    "        train_data=self.__X[train_data_indices]\n",
    "        train_data_y=self.__y[train_data_indices]\n",
    "        # Assume Euclidean distance for simplicity\n",
    "        distances = np.linalg.norm(self.__X[train_data_indices] - self.__X[test_data], axis=1)\n",
    "\n",
    "        #sort distance to find nearest neighbours\n",
    "        sorted_indices = np.argsort(distances)\n",
    "\n",
    "        #determine k nearest neighbours\n",
    "        k_nearest_labels = train_data_y[sorted_indices[:k]]\n",
    "\n",
    "        #find predicted label\n",
    "        predicted_label = np.bincount(k_nearest_labels.astype(int)).argmax()\n",
    "\n",
    "        return predicted_label\n",
    "    # Implement k-nearest neighbors (KNN) algorithm\n",
    "    def __knnReg(self,train_data_indices, test_data, k):\n",
    "\n",
    "        train_data=self.__X[train_data_indices]\n",
    "        train_data_y=self.__y[train_data_indices]\n",
    "        # Assume Euclidean distance for simplicity\n",
    "        distances = np.sum(np.abs(self.__X[train_data_indices] - self.__X[test_data]), axis=1)\n",
    "\n",
    "        #sort distance to find nearest neighbours\n",
    "        sorted_indices = np.argsort(distances)\n",
    "\n",
    "        #determine k nearest neighbours\n",
    "        k_nearest_value = train_data_y[sorted_indices[:k]]\n",
    "\n",
    "        predicted_value = np.mean(k_nearest_value)\n",
    "\n",
    "        return predicted_value\n",
    "    def __setconfusion_matrix(self,predicted_label,true_label):\n",
    "        \n",
    "         # Update the confusion matrix\n",
    "        if predicted_label == 1 and true_label == 1:\n",
    "            self.__confusion_matrix[1, 1] += 1  # True Positive\n",
    "        elif predicted_label == 1 and true_label == 0:\n",
    "            self.__confusion_matrix[1, 0] += 1  # False Positive\n",
    "        elif predicted_label == 0 and true_label == 1:\n",
    "            self.__confusion_matrix[0, 1] += 1  # False Negative\n",
    "        elif predicted_label == 0 and true_label == 0:\n",
    "            self.__confusion_matrix[0, 0] += 1  # True Negative\n",
    "    def __compute_matrix(self):\n",
    "        accuracy = (self.__confusion_matrix[0, 0] + self.__confusion_matrix[1, 1]) / np.sum(self.__confusion_matrix)\n",
    "        precision = self.__confusion_matrix[1, 1] / (self.__confusion_matrix[1, 0] + self.__confusion_matrix[1, 1])\n",
    "        recall = self.__confusion_matrix[1, 1] / (self.__confusion_matrix[0, 1] + self.__confusion_matrix[1, 1])\n",
    "        return accuracy,precision,recall\n",
    "    def __calculate_average_metrics(self):\n",
    "        # Calculate the average metrics\n",
    "        self.__average_accuracy = np.mean(self.__accuracy_scores)\n",
    "        self.__average_precision = np.mean(self.__precision_scores)\n",
    "        self.__average_recall = np.mean(self.__recall_scores)\n",
    "    def start_model_bin(self):\n",
    "        start_time = time.time()\n",
    "        folds,fold_size=self.__cross_validation()\n",
    "        \n",
    "        for i in range(fold_size):\n",
    "            # Split the data into training and testing sets for the current fold\n",
    "            test_data = folds[i]\n",
    "\n",
    "            train_data = np.concatenate([f for j, f in enumerate(folds) if j != i])\n",
    "\n",
    "            #for each datapoint find predict\n",
    "            for j in test_data:\n",
    "                predicted_label = self.__knnCls(train_data, j, k=4)  # You can adjust the value of k\n",
    "                true_label = int(self.__y[j])\n",
    "                #compare predict label with actual label\n",
    "                self.__setconfusion_matrix(predicted_label,true_label)\n",
    "            # Calculate metrics from the confusion matrix\n",
    "            accuracy,precision,recall=self.__compute_matrix()\n",
    "\n",
    "             # Append metrics to lists\n",
    "            self.__accuracy_scores.append(accuracy)\n",
    "            self.__precision_scores.append(precision)\n",
    "            self.__recall_scores.append(recall)\n",
    "            \n",
    "             # Record the end time\n",
    "        end_time = time.time()\n",
    "        self.__calculate_average_metrics()\n",
    "        # Calculate the elapsed time\n",
    "        self.__totTime = end_time - start_time\n",
    "            \n",
    "    def start_model_reg(self):\n",
    "        start_time = time.time()\n",
    "        folds,fold_size=self.__cross_validation()\n",
    "        \n",
    "        mse_scores = []\n",
    "        for i in range(fold_size):\n",
    "            # Split the data into training and testing sets for the current fold\n",
    "            test_data = folds[i]\n",
    "            test_data_y=self.__y[folds[i]]\n",
    "\n",
    "            train_data = np.concatenate([f for j, f in enumerate(folds) if j != i])\n",
    "\n",
    "\n",
    "            #for each datapoint find predict\n",
    "            predictions = []\n",
    "            for j in test_data:\n",
    "                predicted_value = self.__knnReg(train_data, j, k=4)  # You can adjust the value of k\n",
    "                predictions.append(predicted_value)\n",
    "                #compare predict label with actual label\n",
    "            # Calculate mean squared error\n",
    "            mse = np.mean((predictions - test_data_y) ** 2)\n",
    "            mse_scores.append(mse)\n",
    "            end_time = time.time()\n",
    "\n",
    "            # Calculate the elapsed time\n",
    "        self.__average_mse = np.mean(mse_scores)\n",
    "        self.__totTime = end_time - start_time\n",
    "        \n",
    "    def __cross_validation(self):\n",
    "        \n",
    "        indices = np.arange(len(self.__y))\n",
    "\n",
    "        np.random.shuffle(indices)\n",
    "\n",
    "        #compute the fold size\n",
    "        fold_size =  int(len(self.__y)/self.__smallest_prime_divisor(10,len(self.__y)))\n",
    "\n",
    "        #determime folds\n",
    "        folds = [indices[i:i+self.__smallest_prime_divisor(10,len(self.__y))] for i in range(0, len(self.__y), self.__smallest_prime_divisor(10,len(self.__y)))]\n",
    "        return folds,fold_size\n",
    "\n",
    "    def performanceOfModelcls(self,model ):\n",
    "        print(f\"\\nPerforming of  {model}  algorithm with K-fold cross-validaiton on dataset in the {self.__fileName}\\n\")\n",
    "        print(\"  Accuracy                          Precision              Recall\")\n",
    "        for i in range(len(self.__accuracy_scores)):\n",
    "            print(f\"{i}  {self.__accuracy_scores[i]}                 {self.__precision_scores[i]}                  {self.__recall_scores[i]}\")\n",
    "        print(f'\\nAverage Accuracy: {self.__average_accuracy}')\n",
    "        print(f'Average Precision: {self.__average_precision}')\n",
    "        print(f'Average Recall: {self.__average_recall}')\n",
    "        print(self.__confusion_matrix)\n",
    "        print(f\"\\n\\nElapsed Time: {self.__totTime} seconds\")\n",
    "    def performanceOfModelreg(self ,model):\n",
    "        print(f\"\\nPerforming of  {model} with K-fold cross-validaiton on dataset in the {self.__fileName}\\n\")\n",
    "\n",
    "        print(f'Average MSE over K-fold cross-validation: {self.__average_mse}')\n",
    "        print(f\"\\n\\nElapsed Time: {self.__totTime} seconds\")\n",
    "    def SVM_class(self):\n",
    "        start_time = time.time()\n",
    "        folds,folds_size=self.__cross_validation()\n",
    "        for i in range(folds_size):\n",
    "            \n",
    "            #split test data from all data set\n",
    "            X_test,y_test=self.__X[folds[i]],self.__y[folds[i]]\n",
    "            \n",
    "            #merge train folds index in an array\n",
    "            train_data = np.concatenate([f for j, f in enumerate(folds) if j != i])\n",
    "            \n",
    "            #split all train data in an array\n",
    "            X_train,y_train=self.__X[train_data],self.__y[train_data]\n",
    "            \n",
    "            \n",
    "            #createted svm model\n",
    "            svm_model=SVC(kernel=\"linear\",probability=True,C=1.0)\n",
    "            \n",
    "            svm_model.fit(X_train,y_train)\n",
    "               \n",
    "            #thresholds value is obtained for ROC curve\n",
    "            thresholds = np.linspace(0,1,num=100)\n",
    "\n",
    "            #the list created for predicted probabilities for each \n",
    "            predictions_list_test = []\n",
    "            predictions_list = []\n",
    "            \n",
    "            #finded probability of the y_test and y_train\n",
    "            y_probabilities = svm_model.predict_proba(X_train)[:, 1]\n",
    "#             print(y_probabilities)\n",
    "            \n",
    "            y_probabilities_test = svm_model.predict_proba(X_test)[:, 1]\n",
    "            \n",
    "            #finded predicted probability of the y_test y_train\n",
    "            for threshold in thresholds:           \n",
    "                ypred_prob = (y_probabilities_test >= threshold).astype(int)\n",
    "                predictions_list_test.append(ypred_prob)\n",
    "                \n",
    "            for threshold in thresholds:           \n",
    "    \n",
    "                ypred_prob = (y_probabilities >= threshold).astype(int)\n",
    "\n",
    "                predictions_list.append(ypred_prob)     \n",
    "            \n",
    "            print(f\"ROC curve of the train dataset . FOLD {i+1}\")\n",
    "            self.__ROC_Matrix(predictions_list,y_train)\n",
    "            print(f\"ROC curve of the test dataset . FOLD {i+1}\")\n",
    "            self.__ROC_Matrix(predictions_list_test,y_test)\n",
    "#             print(\"===========================\")\n",
    "#             print(predictions_list[:10])\n",
    "#             print(\"===========================\")\n",
    "# #             print(\"-------------\")\n",
    "#             print(y_train[:10])\n",
    "            y_pred=svm_model.predict(X_test)\n",
    "            for j in range(len(y_pred)):\n",
    "                self.__setconfusion_matrix(y_pred[j],y_train[j])\n",
    "            # Calculate metrics from the confusion matrix\n",
    "            accuracy,precision,recall=self.__compute_matrix()\n",
    "\n",
    "             # Append metrics to lists\n",
    "            self.__accuracy_scores.append(accuracy)\n",
    "            self.__precision_scores.append(precision)\n",
    "            self.__recall_scores.append(recall)\n",
    "        self.__calculate_average_metrics()\n",
    "        end_time = time.time()\n",
    "        self.__totTime = end_time - start_time\n",
    "    def SVM_reg(self):\n",
    "        start_time = time.time()\n",
    "        folds,folds_size=self.__cross_validation()\n",
    "        mse_scores=[]\n",
    "        for i in range(folds_size):\n",
    "            \n",
    "            #split test data from all data set\n",
    "            X_test,y_test=self.__X[folds[i]],self.__y[folds[i]]\n",
    "            \n",
    "            #merge train folds index in an array\n",
    "            train_data = np.concatenate([f for j, f in enumerate(folds) if j != i])\n",
    "            \n",
    "            #split all train data in an array\n",
    "            X_train,y_train=self.__X[train_data],self.__y[train_data]\n",
    "            \n",
    "            \n",
    "            #createted svm model\n",
    "            svm_model=SVR(kernel=\"linear\")\n",
    "            \n",
    "            svm_model.fit(X_train,y_train)\n",
    "               \n",
    "            y_pred=svm_model.predict(X_test)\n",
    "            mse_score=[]\n",
    "            mse = np.mean((y_pred - y_test) ** 2)\n",
    "            print(f\"Mean Squared ERROR (MSE) for regressor based on linear SVM for FOLD {i+1} : {mse}\")\n",
    "            mse_scores.append(mse)\n",
    "\n",
    "        end_time = time.time()\n",
    "        self.__totTime = end_time - start_time\n",
    "        self.__average_mse = np.mean(mse_scores)\n",
    "        self.__totTime = end_time - start_time\n",
    "        \n",
    "    def SVM_pol(self):\n",
    "        start_time = time.time()\n",
    "        folds,folds_size=self.__cross_validation()\n",
    "        for i in range(folds_size):\n",
    "            \n",
    "            #split test data from all data set\n",
    "            X_test,y_test=self.__X[folds[i]],self.__y[folds[i]]\n",
    "            \n",
    "            #merge train folds index in an array\n",
    "            train_data = np.concatenate([f for j, f in enumerate(folds) if j != i])\n",
    "            \n",
    "            #split all train data in an array\n",
    "            X_train,y_train=self.__X[train_data],self.__y[train_data]\n",
    "            \n",
    "            \n",
    "            #createted svm model\n",
    "            svm_model=SVC(kernel='poly', degree=3, C=1.0)\n",
    "            \n",
    "            svm_model.fit(X_train,y_train)\n",
    "            \n",
    "            y_pred=svm_model.predict(X_test)\n",
    "            for j in range(len(y_pred)):\n",
    "                self.__setconfusion_matrix(y_pred[j],y_train[j])\n",
    "            # Calculate metrics from the confusion matrix\n",
    "            accuracy,precision,recall=self.__compute_matrix()\n",
    "\n",
    "             # Append metrics to lists\n",
    "            self.__accuracy_scores.append(accuracy)\n",
    "            self.__precision_scores.append(precision)\n",
    "            self.__recall_scores.append(recall)\n",
    "        self.__calculate_average_metrics()\n",
    "        end_time = time.time()\n",
    "        self.__totTime = end_time - start_time\n",
    "\n",
    "        \n",
    "    def __ROC_Matrix(self,y_pred_prob,y_true):\n",
    "        \n",
    "        lr_fp_rates=[]\n",
    "        lr_tp_rates=[]\n",
    "        for j in range(len(y_pred_prob)):\n",
    "            confusion_matrix = np.zeros((2, 2))\n",
    "            for i in range(len(y_true)):\n",
    "                if y_pred_prob[j][i] == 1 and y_true[i] == 1:\n",
    "                    confusion_matrix[1, 1] += 1  # True Positive\n",
    "                elif y_pred_prob[j][i] == 1 and y_true[i] == 0:\n",
    "                    confusion_matrix[1, 0] += 1  # False Positive\n",
    "                elif y_pred_prob[j][i] == 0 and y_true[i] == 1:\n",
    "                    confusion_matrix[0, 1] += 1  # False Negative\n",
    "                elif y_pred_prob[j][i] == 0 and y_true[i] == 0:\n",
    "                    confusion_matrix[0, 0] += 1  # True Negative\n",
    "            lr_fp_rates.append(confusion_matrix[1,0]/(confusion_matrix[1,0]+confusion_matrix[0,0]))\n",
    "            lr_tp_rates.append(confusion_matrix[1,1]/(confusion_matrix[1,1]+confusion_matrix[0,1]))\n",
    "#             print(lr_fp_rates[-1],lr_tp_rates[-1])   \n",
    "#             print(confusion_matrix)\n",
    "        plt.plot(lr_fp_rates,lr_tp_rates)\n",
    "        plt.xlabel('False Positive Rate')\n",
    "        plt.ylabel('True Positive Rate')\n",
    "        plt.show()\n",
    "    def DT_classifier(self,pruning):\n",
    "        start_time = time.time()\n",
    "        folds,folds_size=self.__cross_validation()\n",
    "        for i in range(folds_size):\n",
    "            \n",
    "            #split test data from all data set\n",
    "            X_test,y_test=self.__X[folds[i]],self.__y[folds[i]]\n",
    "            \n",
    "            #merge train folds index in an array\n",
    "            train_data = np.concatenate([f for j, f in enumerate(folds) if j != i])\n",
    "            \n",
    "            #split all train data in an array\n",
    "            X_train,y_train=self.__X[train_data],self.__y[train_data]\n",
    "            \n",
    "            \n",
    "            #createted DT model\n",
    "            if pruning:\n",
    "                dt_model = DecisionTreeClassifier(min_samples_leaf=14)\n",
    "            else :\n",
    "                dt_model = DecisionTreeClassifier(max_depth =8)\n",
    "            \n",
    "            dt_model.fit(X_train,y_train)\n",
    "            \n",
    "            y_pred=dt_model.predict(X_test)\n",
    "            \n",
    "            self.__rules.append(self.__extract_paths(dt_model.tree_, self.__feature_names))\n",
    "            for j in range(len(y_pred)):\n",
    "                self.__setconfusion_matrix(y_pred[j],y_train[j])\n",
    "            # Calculate metrics from the confusion matrix\n",
    "            accuracy,precision,recall=self.__compute_matrix()\n",
    "\n",
    "             # Append metrics to lists\n",
    "            self.__accuracy_scores.append(accuracy)\n",
    "            self.__precision_scores.append(precision)\n",
    "            self.__recall_scores.append(recall)\n",
    "        self.__calculate_average_metrics()\n",
    "        end_time = time.time()\n",
    "        self.__totTime = end_time - start_time\n",
    "        \n",
    "    def __extract_rules(self,DT):# Function that extract to each leaf notes\n",
    "        text_representation = tree.export_text(DT)\n",
    "        return (text_representation)\n",
    "    def rules_of_DT(self):\n",
    "        for i in self.__rules:\n",
    "            print(i)\n",
    "    \n",
    "    # Function to extract rules from a decision tree\n",
    "    def __extract_paths(self,tree, feature_names):\n",
    "        paths = []\n",
    "\n",
    "        def recurse(node, path):\n",
    "            if tree.feature[node] != _tree.TREE_UNDEFINED:\n",
    "                name = feature_names[node]\n",
    "                threshold = tree.threshold[node]\n",
    "\n",
    "                left_path = path + [f\"If {name} <= {threshold}:\"]\n",
    "                recurse(tree.children_left[node], left_path)\n",
    "\n",
    "                right_path = path + [f\"Else (If {name} > {threshold}):\"]\n",
    "                recurse(tree.children_right[node], right_path)\n",
    "            else:\n",
    "                class_label = np.argmax(tree.value[node])\n",
    "                leaf_path = path + [f\"Return class {class_label}\"]\n",
    "                paths.append(leaf_path)\n",
    "\n",
    "        recurse(0, [])\n",
    "        return paths\n",
    "    def DT_regressor(self,pruning):\n",
    "        start_time = time.time()\n",
    "        folds,folds_size=self.__cross_validation()\n",
    "        mse_scores=[]\n",
    "        for i in range(folds_size):\n",
    "            \n",
    "            #split test data from all data set\n",
    "            X_test,y_test=self.__X[folds[i]],self.__y[folds[i]]\n",
    "            \n",
    "            #merge train folds index in an array\n",
    "            train_data = np.concatenate([f for j, f in enumerate(folds) if j != i])\n",
    "            \n",
    "            #split all train data in an array\n",
    "            X_train,y_train=self.__X[train_data],self.__y[train_data]\n",
    "            \n",
    "            \n",
    "            #createted DT model\n",
    "            if pruning:\n",
    "                dt_model = DecisionTreeClassifier(min_samples_leaf=14)\n",
    "            else :\n",
    "                dt_model = DecisionTreeClassifier(max_depth =8)\n",
    "            \n",
    "            dt_model.fit(X_train,y_train)\n",
    "            \n",
    "            y_pred=dt_model.predict(X_test)\n",
    "            \n",
    "#             self.__rules.append(self.__extract_paths(dt_model.tree_, self.__feature_names))\n",
    "            mse_score=[]\n",
    "            mse = np.mean((y_pred - y_test) ** 2)\n",
    "            print(f\"Mean Squared ERROR (MSE) for regressor based on DT for FOLD {i+1} : {mse}\")\n",
    "            mse_scores.append(mse)\n",
    "\n",
    "        end_time = time.time()\n",
    "        self.__totTime = end_time - start_time\n",
    "        self.__average_mse = np.mean(mse_scores)\n",
    "        self.__totTime = end_time - start_time\n",
    "\n",
    "\n",
    "        \n",
    "    \n",
    "        \n",
    "    \n"
   ]
  },
  {
   "cell_type": "markdown",
   "id": "cf773e30",
   "metadata": {},
   "source": [
    "# PART 1(KNN Regression  )\n",
    " "
   ]
  },
  {
   "cell_type": "code",
   "execution_count": 199,
   "id": "8cda30d6",
   "metadata": {},
   "outputs": [
    {
     "name": "stdout",
     "output_type": "stream",
     "text": [
      "\n",
      "Performing of  KNN binary classificaiton with K-fold cross-validaiton on dataset in the audit_risk.csv\n",
      "\n",
      "Average MSE over K-fold cross-validation: 0.025531572164948453\n",
      "\n",
      "\n",
      "Elapsed Time: 0.08640909194946289 seconds\n"
     ]
    }
   ],
   "source": [
    "regs=Reg_Clsfcn(\"audit_risk.csv\",4)\n",
    "regs.start_model_reg()\n",
    "regs.performanceOfModelreg(\"KNN binary classificaiton\")"
   ]
  },
  {
   "cell_type": "markdown",
   "id": "039a4083",
   "metadata": {},
   "source": [
    "# result"
   ]
  },
  {
   "cell_type": "markdown",
   "id": "cad3f44d",
   "metadata": {},
   "source": [
    "\n",
    "#for regressian classificatin ı have performed cross validaiton on dataset. then I have compute distance by manhattane distance\n",
    ". finally I determine nearest value by algorith that ı used in binary classification. for error handling I have used  squared error for each predictions. then I have computed MSE(mean squared error for all predicitons)"
   ]
  },
  {
   "cell_type": "markdown",
   "id": "fce6929a",
   "metadata": {},
   "source": [
    "# PART 2 (KNN classification)"
   ]
  },
  {
   "cell_type": "code",
   "execution_count": 200,
   "id": "a245dd21",
   "metadata": {},
   "outputs": [
    {
     "name": "stdout",
     "output_type": "stream",
     "text": [
      "\n",
      "Performing of  KNN binary classificaiton  algorithm with K-fold cross-validaiton on dataset in the trial.csv\n",
      "\n",
      "  Accuracy                          Precision              Recall\n",
      "0  0.9278350515463918                 1.0                  0.8653846153846154\n",
      "1  0.9278350515463918                 1.0                  0.8861788617886179\n",
      "2  0.9106529209621993                 1.0                  0.8624338624338624\n",
      "3  0.9097938144329897                 1.0                  0.8627450980392157\n",
      "4  0.9195876288659793                 1.0                  0.8733766233766234\n",
      "5  0.9226804123711341                 1.0                  0.8777173913043478\n",
      "6  0.9204712812960235                 0.9947089947089947                  0.8785046728971962\n",
      "7  0.9226804123711341                 0.9930555555555556                  0.8827160493827161\n",
      "\n",
      "Average Accuracy: 0.9201920716740305\n",
      "Average Precision: 0.9984705687830688\n",
      "Average Recall: 0.8736321468258994\n",
      "[[287.  57.]\n",
      " [  3. 429.]]\n",
      "\n",
      "\n",
      "Elapsed Time: 0.07785296440124512 seconds\n"
     ]
    }
   ],
   "source": [
    "clasS=Reg_Clsfcn(\"trial.csv\",4)\n",
    "clasS.start_model_bin()\n",
    "clasS.performanceOfModelcls(\"KNN binary classificaiton\")"
   ]
  },
  {
   "cell_type": "markdown",
   "id": "9ec91c90",
   "metadata": {},
   "source": [
    "# RESULT"
   ]
  },
  {
   "cell_type": "markdown",
   "id": "a1093d2a",
   "metadata": {},
   "source": [
    "\n",
    "#at above code I have implemented classifier and regeression  KNN model. for training and testing I have performed k-fold crass validation. To determine K for cross validation I  have found smaller prime divider and then I have determine k. \n",
    "binary classificaton model compute distance from each test point to train point. Then sort them and look k-nearest points. finally take nearest point that are the most count in the neighbour. to compute distance ı have used eucluidian distance\n"
   ]
  },
  {
   "cell_type": "markdown",
   "id": "b1d51d34",
   "metadata": {},
   "source": [
    "# PART 3 (linear SVM classifier)"
   ]
  },
  {
   "cell_type": "code",
   "execution_count": 201,
   "id": "dd051e3d",
   "metadata": {},
   "outputs": [
    {
     "name": "stdout",
     "output_type": "stream",
     "text": [
      "ROC curve of the train dataset . FOLD 1\n"
     ]
    },
    {
     "data": {
      "image/png": "[encoded data removed]",
      "text/plain": [
       "<Figure size 432x288 with 1 Axes>"
      ]
     },
     "metadata": {
      "needs_background": "light"
     },
     "output_type": "display_data"
    },
    {
     "name": "stdout",
     "output_type": "stream",
     "text": [
      "ROC curve of the test dataset . FOLD 1\n"
     ]
    },
    {
     "data": {
      "image/png": "[encoded data removed]",
      "text/plain": [
       "<Figure size 432x288 with 1 Axes>"
      ]
     },
     "metadata": {
      "needs_background": "light"
     },
     "output_type": "display_data"
    },
    {
     "name": "stdout",
     "output_type": "stream",
     "text": [
      "ROC curve of the train dataset . FOLD 2\n"
     ]
    },
    {
     "data": {
      "image/png": "[encoded data removed]",
      "text/plain": [
       "<Figure size 432x288 with 1 Axes>"
      ]
     },
     "metadata": {
      "needs_background": "light"
     },
     "output_type": "display_data"
    },
    {
     "name": "stdout",
     "output_type": "stream",
     "text": [
      "ROC curve of the test dataset . FOLD 2\n"
     ]
    },
    {
     "data": {
      "image/png": "[encoded data removed]",
      "text/plain": [
       "<Figure size 432x288 with 1 Axes>"
      ]
     },
     "metadata": {
      "needs_background": "light"
     },
     "output_type": "display_data"
    },
    {
     "name": "stdout",
     "output_type": "stream",
     "text": [
      "ROC curve of the train dataset . FOLD 3\n"
     ]
    },
    {
     "data": {
      "image/png": "[encoded data removed]",
      "text/plain": [
       "<Figure size 432x288 with 1 Axes>"
      ]
     },
     "metadata": {
      "needs_background": "light"
     },
     "output_type": "display_data"
    },
    {
     "name": "stdout",
     "output_type": "stream",
     "text": [
      "ROC curve of the test dataset . FOLD 3\n"
     ]
    },
    {
     "data": {
      "image/png": "[encoded data removed]",
      "text/plain": [
       "<Figure size 432x288 with 1 Axes>"
      ]
     },
     "metadata": {
      "needs_background": "light"
     },
     "output_type": "display_data"
    },
    {
     "name": "stdout",
     "output_type": "stream",
     "text": [
      "ROC curve of the train dataset . FOLD 4\n"
     ]
    },
    {
     "data": {
      "image/png": "[encoded data removed]",
      "text/plain": [
       "<Figure size 432x288 with 1 Axes>"
      ]
     },
     "metadata": {
      "needs_background": "light"
     },
     "output_type": "display_data"
    },
    {
     "name": "stdout",
     "output_type": "stream",
     "text": [
      "ROC curve of the test dataset . FOLD 4\n"
     ]
    },
    {
     "data": {
      "image/png": "[encoded data removed]",
      "text/plain": [
       "<Figure size 432x288 with 1 Axes>"
      ]
     },
     "metadata": {
      "needs_background": "light"
     },
     "output_type": "display_data"
    },
    {
     "name": "stdout",
     "output_type": "stream",
     "text": [
      "ROC curve of the train dataset . FOLD 5\n"
     ]
    },
    {
     "data": {
      "image/png": "[encoded data removed]",
      "text/plain": [
       "<Figure size 432x288 with 1 Axes>"
      ]
     },
     "metadata": {
      "needs_background": "light"
     },
     "output_type": "display_data"
    },
    {
     "name": "stdout",
     "output_type": "stream",
     "text": [
      "ROC curve of the test dataset . FOLD 5\n"
     ]
    },
    {
     "data": {
      "image/png": "[encoded data removed]",
      "text/plain": [
       "<Figure size 432x288 with 1 Axes>"
      ]
     },
     "metadata": {
      "needs_background": "light"
     },
     "output_type": "display_data"
    },
    {
     "name": "stdout",
     "output_type": "stream",
     "text": [
      "ROC curve of the train dataset . FOLD 6\n"
     ]
    },
    {
     "data": {
      "image/png": "[encoded data removed]",
      "text/plain": [
       "<Figure size 432x288 with 1 Axes>"
      ]
     },
     "metadata": {
      "needs_background": "light"
     },
     "output_type": "display_data"
    },
    {
     "name": "stdout",
     "output_type": "stream",
     "text": [
      "ROC curve of the test dataset . FOLD 6\n"
     ]
    },
    {
     "data": {
      "image/png": "[encoded data removed]",
      "text/plain": [
       "<Figure size 432x288 with 1 Axes>"
      ]
     },
     "metadata": {
      "needs_background": "light"
     },
     "output_type": "display_data"
    },
    {
     "name": "stdout",
     "output_type": "stream",
     "text": [
      "ROC curve of the train dataset . FOLD 7\n"
     ]
    },
    {
     "data": {
      "image/png": "[encoded data removed]",
      "text/plain": [
       "<Figure size 432x288 with 1 Axes>"
      ]
     },
     "metadata": {
      "needs_background": "light"
     },
     "output_type": "display_data"
    },
    {
     "name": "stdout",
     "output_type": "stream",
     "text": [
      "ROC curve of the test dataset . FOLD 7\n"
     ]
    },
    {
     "data": {
      "image/png": "[encoded data removed]",
      "text/plain": [
       "<Figure size 432x288 with 1 Axes>"
      ]
     },
     "metadata": {
      "needs_background": "light"
     },
     "output_type": "display_data"
    },
    {
     "name": "stdout",
     "output_type": "stream",
     "text": [
      "ROC curve of the train dataset . FOLD 8\n"
     ]
    },
    {
     "data": {
      "image/png": "[encoded data removed]",
      "text/plain": [
       "<Figure size 432x288 with 1 Axes>"
      ]
     },
     "metadata": {
      "needs_background": "light"
     },
     "output_type": "display_data"
    },
    {
     "name": "stdout",
     "output_type": "stream",
     "text": [
      "ROC curve of the test dataset . FOLD 8\n"
     ]
    },
    {
     "data": {
      "image/png": "[encoded data removed]",
      "text/plain": [
       "<Figure size 432x288 with 1 Axes>"
      ]
     },
     "metadata": {
      "needs_background": "light"
     },
     "output_type": "display_data"
    },
    {
     "name": "stdout",
     "output_type": "stream",
     "text": [
      "\n",
      "Performing of  Support Vector Machine(SVM)  algorithm with K-fold cross-validaiton on dataset in the audit_risk.csv\n",
      "\n",
      "  Accuracy                          Precision              Recall\n",
      "0  0.5154639175257731                 0.35                  0.4\n",
      "1  0.5154639175257731                 0.3698630136986301                  0.36\n",
      "2  0.5120274914089347                 0.3805309734513274                  0.3739130434782609\n",
      "3  0.5025773195876289                 0.3698630136986301                  0.34838709677419355\n",
      "4  0.49896907216494846                 0.3695652173913043                  0.3487179487179487\n",
      "5  0.506872852233677                 0.38495575221238937                  0.3702127659574468\n",
      "6  0.5110456553755522                 0.39245283018867927                  0.3781818181818182\n",
      "7  0.5064432989690721                 0.38666666666666666                  0.3682539682539683\n",
      "\n",
      "Average Accuracy: 0.5086079405989199\n",
      "Average Precision: 0.3754871834134534\n",
      "Average Recall: 0.36845833017045454\n",
      "[[277. 199.]\n",
      " [184. 116.]]\n",
      "\n",
      "\n",
      "Elapsed Time: 2.1150436401367188 seconds\n"
     ]
    }
   ],
   "source": [
    "clasSVM=Reg_Clsfcn(\"audit_risk.csv\",4)\n",
    "clasSVM.SVM_class()\n",
    "clasSVM.performanceOfModelcls(\"Support Vector Machine(SVM)\")"
   ]
  },
  {
   "cell_type": "markdown",
   "id": "0fd0429a",
   "metadata": {},
   "source": [
    "# RESULT"
   ]
  },
  {
   "cell_type": "markdown",
   "id": "1caedf7c",
   "metadata": {},
   "source": [
    "SVM's main aim is the seperate data set by a hyperplane and then expand this hyperplane how much it can be expand. I have performed classifier based on linear SVM in this part. I have observed SVM \n",
    "could't classify data as good as KNN algorithm.after classificaiton I try to draw ROC curve. Bu I have\n",
    "encounter a problem. while draw ROC curve for SVM , I need to find distance from data point to margin for each datapoint. Then I need to compare this distance beetween threshold and finaly I need to find rate of true positve (TP) and false positive(FP) . but probabilities that SVC modul give is not distance from margin . therefore I couldnt draw ROC curve correctly"
   ]
  },
  {
   "cell_type": "markdown",
   "id": "02c41aa2",
   "metadata": {},
   "source": [
    "# PART 4 (linear SVM regressor)"
   ]
  },
  {
   "cell_type": "code",
   "execution_count": 202,
   "id": "52a40da3",
   "metadata": {},
   "outputs": [
    {
     "name": "stdout",
     "output_type": "stream",
     "text": [
      "Mean Squared ERROR (MSE) for regressor based on linear SVM for FOLD 1 : 0.004085898465527878\n",
      "Mean Squared ERROR (MSE) for regressor based on linear SVM for FOLD 2 : 0.004357104144798844\n",
      "Mean Squared ERROR (MSE) for regressor based on linear SVM for FOLD 3 : 0.005020374860939895\n",
      "Mean Squared ERROR (MSE) for regressor based on linear SVM for FOLD 4 : 0.00443182407791986\n",
      "Mean Squared ERROR (MSE) for regressor based on linear SVM for FOLD 5 : 0.004361835100282169\n",
      "Mean Squared ERROR (MSE) for regressor based on linear SVM for FOLD 6 : 0.005307175745454679\n",
      "Mean Squared ERROR (MSE) for regressor based on linear SVM for FOLD 7 : 0.003474060696538193\n",
      "Mean Squared ERROR (MSE) for regressor based on linear SVM for FOLD 8 : 0.004870718675827361\n",
      "Mean Squared ERROR (MSE) for regressor based on linear SVM for FOLD 9 : 0.0032283527286625776\n",
      "Mean Squared ERROR (MSE) for regressor based on linear SVM for FOLD 10 : 0.005409020657105727\n",
      "Mean Squared ERROR (MSE) for regressor based on linear SVM for FOLD 11 : 0.004232094964392462\n",
      "Mean Squared ERROR (MSE) for regressor based on linear SVM for FOLD 12 : 0.003841176184941824\n",
      "Mean Squared ERROR (MSE) for regressor based on linear SVM for FOLD 13 : 0.004982801610779463\n",
      "Mean Squared ERROR (MSE) for regressor based on linear SVM for FOLD 14 : 0.0035964198746090974\n",
      "Mean Squared ERROR (MSE) for regressor based on linear SVM for FOLD 15 : 0.0031492774421116223\n",
      "Mean Squared ERROR (MSE) for regressor based on linear SVM for FOLD 16 : 0.0036286915379197668\n",
      "Mean Squared ERROR (MSE) for regressor based on linear SVM for FOLD 17 : 0.005343434975597182\n",
      "Mean Squared ERROR (MSE) for regressor based on linear SVM for FOLD 18 : 0.005500256232278389\n",
      "Mean Squared ERROR (MSE) for regressor based on linear SVM for FOLD 19 : 0.004177968497919304\n",
      "Mean Squared ERROR (MSE) for regressor based on linear SVM for FOLD 20 : 0.003951935937100903\n",
      "Mean Squared ERROR (MSE) for regressor based on linear SVM for FOLD 21 : 0.004626935530066703\n",
      "Mean Squared ERROR (MSE) for regressor based on linear SVM for FOLD 22 : 0.005207536360919016\n",
      "Mean Squared ERROR (MSE) for regressor based on linear SVM for FOLD 23 : 0.004412884482847842\n",
      "Mean Squared ERROR (MSE) for regressor based on linear SVM for FOLD 24 : 0.0046612522724951075\n",
      "Mean Squared ERROR (MSE) for regressor based on linear SVM for FOLD 25 : 0.004207534807914392\n",
      "Mean Squared ERROR (MSE) for regressor based on linear SVM for FOLD 26 : 0.0049008166389913855\n",
      "Mean Squared ERROR (MSE) for regressor based on linear SVM for FOLD 27 : 0.004570996701883954\n",
      "Mean Squared ERROR (MSE) for regressor based on linear SVM for FOLD 28 : 0.00347362652691899\n",
      "Mean Squared ERROR (MSE) for regressor based on linear SVM for FOLD 29 : 0.006048546241938269\n",
      "Mean Squared ERROR (MSE) for regressor based on linear SVM for FOLD 30 : 0.005361875321998167\n",
      "Mean Squared ERROR (MSE) for regressor based on linear SVM for FOLD 31 : 0.005554090880666603\n",
      "Mean Squared ERROR (MSE) for regressor based on linear SVM for FOLD 32 : 0.004511864071150727\n",
      "Mean Squared ERROR (MSE) for regressor based on linear SVM for FOLD 33 : 0.0038305057043919685\n",
      "Mean Squared ERROR (MSE) for regressor based on linear SVM for FOLD 34 : 0.0036585290807032112\n",
      "Mean Squared ERROR (MSE) for regressor based on linear SVM for FOLD 35 : 0.004310810833014911\n",
      "Mean Squared ERROR (MSE) for regressor based on linear SVM for FOLD 36 : 0.004188720290584274\n",
      "Mean Squared ERROR (MSE) for regressor based on linear SVM for FOLD 37 : 0.004550800415326883\n",
      "Mean Squared ERROR (MSE) for regressor based on linear SVM for FOLD 38 : 0.004717129263202353\n",
      "Mean Squared ERROR (MSE) for regressor based on linear SVM for FOLD 39 : 0.00404169188613888\n",
      "Mean Squared ERROR (MSE) for regressor based on linear SVM for FOLD 40 : 0.0026003098083939623\n",
      "Mean Squared ERROR (MSE) for regressor based on linear SVM for FOLD 41 : 0.005437800879897013\n",
      "Mean Squared ERROR (MSE) for regressor based on linear SVM for FOLD 42 : 0.004202788538089977\n",
      "Mean Squared ERROR (MSE) for regressor based on linear SVM for FOLD 43 : 0.006138447327431526\n",
      "\n",
      "Performing of  Support Vector Machine(SVM) with K-fold cross-validaiton on dataset in the day.csv\n",
      "\n",
      "Average MSE over K-fold cross-validation: 0.004468974797108681\n",
      "\n",
      "\n",
      "Elapsed Time: 3.031755208969116 seconds\n"
     ]
    }
   ],
   "source": [
    "clasSVM=Reg_Clsfcn(\"day.csv\",4)\n",
    "clasSVM.SVM_reg()\n",
    "clasSVM.performanceOfModelreg(\"Support Vector Machine(SVM)\")"
   ]
  },
  {
   "cell_type": "markdown",
   "id": "50395d6a",
   "metadata": {},
   "source": [
    "# result"
   ]
  },
  {
   "cell_type": "markdown",
   "id": "63c6b4de",
   "metadata": {},
   "source": [
    "in this part I have performed regressor based on linear SVM. I have used to K-fold cross validation for seperate data for testing and training. After seperating data I have trained data and test them with test data. then I compute MSE(mean squared error ) for each fold. mean squared error show that \n",
    "regressor of SVM work god."
   ]
  },
  {
   "cell_type": "markdown",
   "id": "182b961f",
   "metadata": {},
   "source": [
    "# "
   ]
  },
  {
   "cell_type": "markdown",
   "id": "85a1343e",
   "metadata": {},
   "source": [
    "# PART 5 (polynomial SVM classifier)"
   ]
  },
  {
   "cell_type": "code",
   "execution_count": 203,
   "id": "aaafc97a",
   "metadata": {},
   "outputs": [
    {
     "name": "stdout",
     "output_type": "stream",
     "text": [
      "\n",
      "Performing of  Support Vector Machine(SVM)  algorithm with K-fold cross-validaiton on dataset in the audit_risk.csv\n",
      "\n",
      "  Accuracy                          Precision              Recall\n",
      "0  0.6391752577319587                 0.5454545454545454                  0.16666666666666666\n",
      "1  0.6391752577319587                 0.5238095238095238                  0.15492957746478872\n",
      "2  0.6288659793814433                 0.47058823529411764                  0.1509433962264151\n",
      "3  0.6417525773195877                 0.5227272727272727                  0.16312056737588654\n",
      "4  0.6371134020618556                 0.5                  0.17613636363636365\n",
      "5  0.6323024054982818                 0.4810126582278481                  0.18009478672985782\n",
      "6  0.6391752577319587                 0.5053763440860215                  0.1910569105691057\n",
      "7  0.6430412371134021                 0.5181818181818182                  0.20284697508896798\n",
      "\n",
      "Average Accuracy: 0.6375751718213059\n",
      "Average Precision: 0.5083937997226433\n",
      "Average Recall: 0.1732244054697565\n",
      "[[442. 224.]\n",
      " [ 53.  57.]]\n",
      "\n",
      "\n",
      "Elapsed Time: 0.06460022926330566 seconds\n"
     ]
    }
   ],
   "source": [
    "polySVM=Reg_Clsfcn(\"audit_risk.csv\",4)\n",
    "polySVM.SVM_pol()\n",
    "polySVM.performanceOfModelcls(\"Support Vector Machine(SVM)\")\n",
    "\n"
   ]
  },
  {
   "cell_type": "markdown",
   "id": "12f0fe9f",
   "metadata": {},
   "source": [
    "# RESULT\n"
   ]
  },
  {
   "cell_type": "markdown",
   "id": "9b2c832b",
   "metadata": {},
   "source": [
    "SVM model seperate data by hyperplane that can be linear or polynomial.sometimes data set can not seperate with linear hyperplane very good. when the dataset is like this svm model can use linear transformation and convert linear hyperplane and use polnomial SVM. by this method classificaiton can give more good accurancy than linar SVM"
   ]
  },
  {
   "cell_type": "markdown",
   "id": "1564a013",
   "metadata": {},
   "source": [
    "# PART 6 ( classifier based on DT(Decision Trees))\n"
   ]
  },
  {
   "cell_type": "code",
   "execution_count": 204,
   "id": "7e34b87b",
   "metadata": {},
   "outputs": [
    {
     "name": "stdout",
     "output_type": "stream",
     "text": [
      "\n",
      "Performing of  DECISION TREE(DT))  algorithm with K-fold cross-validaiton on dataset in the audit_risk.csv\n",
      "\n",
      "  Accuracy                          Precision              Recall\n",
      "0  0.5773195876288659                 0.36666666666666664                  0.3333333333333333\n",
      "1  0.5773195876288659                 0.3492063492063492                  0.3492063492063492\n",
      "2  0.5773195876288659                 0.3557692307692308                  0.3978494623655914\n",
      "3  0.5747422680412371                 0.35                  0.3983739837398374\n",
      "4  0.5711340206185567                 0.3463687150837989                  0.40522875816993464\n",
      "5  0.5773195876288659                 0.3548387096774194                  0.4207650273224044\n",
      "6  0.5743740795287187                 0.35271317829457366                  0.4272300469483568\n",
      "7  0.5644329896907216                 0.3442622950819672                  0.43209876543209874\n",
      "\n",
      "Average Accuracy: 0.5742452135493372\n",
      "Average Precision: 0.3524781430975007\n",
      "Average Recall: 0.39551071581473823\n",
      "[[333. 138.]\n",
      " [200. 105.]]\n",
      "\n",
      "\n",
      "Elapsed Time: 0.0 seconds\n",
      "[['If Sector_score <= 1.0109999775886536:', 'Return class 0'], ['Else (If Sector_score > 1.0109999775886536):', 'Return class 1']]\n",
      "[['If Sector_score <= 1.0045999884605408:', 'Return class 0'], ['Else (If Sector_score > 1.0045999884605408):', 'Return class 1']]\n",
      "[['If Sector_score <= 1.0045999884605408:', 'Return class 0'], ['Else (If Sector_score > 1.0045999884605408):', 'Return class 1']]\n",
      "[['If Sector_score <= 1.0045999884605408:', 'Return class 0'], ['Else (If Sector_score > 1.0045999884605408):', 'Return class 1']]\n",
      "[['If Sector_score <= 1.0045999884605408:', 'Return class 0'], ['Else (If Sector_score > 1.0045999884605408):', 'Return class 1']]\n",
      "[['If Sector_score <= 1.0045999884605408:', 'Return class 0'], ['Else (If Sector_score > 1.0045999884605408):', 'Return class 1']]\n",
      "[['If Sector_score <= 1.0045999884605408:', 'Return class 0'], ['Else (If Sector_score > 1.0045999884605408):', 'Return class 1']]\n",
      "[['If Sector_score <= 1.0038000047206879:', 'Return class 0'], ['Else (If Sector_score > 1.0038000047206879):', 'Return class 1']]\n"
     ]
    }
   ],
   "source": [
    "DT_class=Reg_Clsfcn(\"audit_risk.csv\",4)\n",
    "DT_class.DT_classifier(True)\n",
    "DT_class.performanceOfModelcls(\"DECISION TREE(DT))\")\n",
    "DT_class.rules_of_DT()"
   ]
  },
  {
   "cell_type": "code",
   "execution_count": 205,
   "id": "3c4aa4cb",
   "metadata": {},
   "outputs": [
    {
     "name": "stdout",
     "output_type": "stream",
     "text": [
      "\n",
      "Performing of  DECISION TREE(DT))  algorithm with K-fold cross-validaiton on dataset in the audit_risk.csv\n",
      "\n",
      "  Accuracy                          Precision              Recall\n",
      "0  0.5876288659793815                 0.5151515151515151                  0.4146341463414634\n",
      "1  0.5876288659793815                 0.4594594594594595                  0.4594594594594595\n",
      "2  0.570446735395189                 0.41509433962264153                  0.411214953271028\n",
      "3  0.5463917525773195                 0.3732394366197183                  0.37857142857142856\n",
      "4  0.5381443298969072                 0.3621621621621622                  0.3872832369942196\n",
      "5  0.5292096219931272                 0.34684684684684686                  0.3737864077669903\n",
      "6  0.5272459499263623                 0.3458646616541353                  0.38493723849372385\n",
      "7  0.5244845360824743                 0.34098360655737703                  0.38235294117647056\n",
      "\n",
      "Average Accuracy: 0.5513975822287678\n",
      "Average Precision: 0.394850253509232\n",
      "Average Recall: 0.399029976509348\n",
      "[[303. 168.]\n",
      " [201. 104.]]\n",
      "\n",
      "\n",
      "Elapsed Time: 0.012836456298828125 seconds\n",
      "[['If Sector_score <= 1.0045999884605408:', 'Return class 0'], ['Else (If Sector_score > 1.0045999884605408):', 'Return class 1']]\n",
      "[['If Sector_score <= 1.0101999938488007:', 'Return class 0'], ['Else (If Sector_score > 1.0101999938488007):', 'Return class 1']]\n",
      "[['If Sector_score <= 1.0045999884605408:', 'Return class 0'], ['Else (If Sector_score > 1.0045999884605408):', 'Return class 1']]\n",
      "[['If Sector_score <= 1.0045999884605408:', 'Return class 0'], ['Else (If Sector_score > 1.0045999884605408):', 'Return class 1']]\n",
      "[['If Sector_score <= 1.0045999884605408:', 'Return class 0'], ['Else (If Sector_score > 1.0045999884605408):', 'Return class 1']]\n",
      "[['If Sector_score <= 1.0045999884605408:', 'Return class 0'], ['Else (If Sector_score > 1.0045999884605408):', 'Return class 1']]\n",
      "[['If Sector_score <= 1.0045999884605408:', 'Return class 0'], ['Else (If Sector_score > 1.0045999884605408):', 'Return class 1']]\n",
      "[['If Sector_score <= 1.0045999884605408:', 'Return class 0'], ['Else (If Sector_score > 1.0045999884605408):', 'Return class 1']]\n"
     ]
    }
   ],
   "source": [
    "DT_class=Reg_Clsfcn(\"audit_risk.csv\",4)\n",
    "DT_class.DT_classifier(False)\n",
    "DT_class.performanceOfModelcls(\"DECISION TREE(DT))\")\n",
    "DT_class.rules_of_DT()"
   ]
  },
  {
   "cell_type": "markdown",
   "id": "f075d087",
   "metadata": {},
   "source": [
    "\n",
    "# result"
   ]
  },
  {
   "cell_type": "markdown",
   "id": "ab582145",
   "metadata": {},
   "source": [
    "decision tree dont use all features for classificaiton . our model use  one feture for classifaciton . therefore ıt's accuracy is too low"
   ]
  },
  {
   "cell_type": "markdown",
   "id": "1480022f",
   "metadata": {},
   "source": [
    "# PART 7(Regressor based on DT)"
   ]
  },
  {
   "cell_type": "code",
   "execution_count": 206,
   "id": "2b90255a",
   "metadata": {},
   "outputs": [
    {
     "name": "stdout",
     "output_type": "stream",
     "text": [
      "Mean Squared ERROR (MSE) for regressor based on DT for FOLD 1 : 185783.0\n",
      "Mean Squared ERROR (MSE) for regressor based on DT for FOLD 2 : 521649.70588235295\n",
      "Mean Squared ERROR (MSE) for regressor based on DT for FOLD 3 : 552283.1764705882\n",
      "Mean Squared ERROR (MSE) for regressor based on DT for FOLD 4 : 562022.8823529412\n",
      "Mean Squared ERROR (MSE) for regressor based on DT for FOLD 5 : 1745030.5882352942\n",
      "Mean Squared ERROR (MSE) for regressor based on DT for FOLD 6 : 518981.5294117647\n",
      "Mean Squared ERROR (MSE) for regressor based on DT for FOLD 7 : 2183786.2352941176\n",
      "Mean Squared ERROR (MSE) for regressor based on DT for FOLD 8 : 1208798.705882353\n",
      "Mean Squared ERROR (MSE) for regressor based on DT for FOLD 9 : 858615.8235294118\n",
      "Mean Squared ERROR (MSE) for regressor based on DT for FOLD 10 : 1299179.1176470588\n",
      "Mean Squared ERROR (MSE) for regressor based on DT for FOLD 11 : 1210701.0\n",
      "Mean Squared ERROR (MSE) for regressor based on DT for FOLD 12 : 336037.76470588235\n",
      "Mean Squared ERROR (MSE) for regressor based on DT for FOLD 13 : 374241.1176470588\n",
      "Mean Squared ERROR (MSE) for regressor based on DT for FOLD 14 : 607782.7647058824\n",
      "Mean Squared ERROR (MSE) for regressor based on DT for FOLD 15 : 1590808.3529411764\n",
      "Mean Squared ERROR (MSE) for regressor based on DT for FOLD 16 : 504354.5294117647\n",
      "Mean Squared ERROR (MSE) for regressor based on DT for FOLD 17 : 222429.76470588235\n",
      "Mean Squared ERROR (MSE) for regressor based on DT for FOLD 18 : 540623.5294117647\n",
      "Mean Squared ERROR (MSE) for regressor based on DT for FOLD 19 : 678944.5882352941\n",
      "Mean Squared ERROR (MSE) for regressor based on DT for FOLD 20 : 631070.9411764706\n",
      "Mean Squared ERROR (MSE) for regressor based on DT for FOLD 21 : 410899.64705882355\n",
      "Mean Squared ERROR (MSE) for regressor based on DT for FOLD 22 : 741830.9411764706\n",
      "Mean Squared ERROR (MSE) for regressor based on DT for FOLD 23 : 512913.23529411765\n",
      "Mean Squared ERROR (MSE) for regressor based on DT for FOLD 24 : 1701478.294117647\n",
      "Mean Squared ERROR (MSE) for regressor based on DT for FOLD 25 : 930345.2352941176\n",
      "Mean Squared ERROR (MSE) for regressor based on DT for FOLD 26 : 1748242.4705882352\n",
      "Mean Squared ERROR (MSE) for regressor based on DT for FOLD 27 : 1581245.7647058824\n",
      "Mean Squared ERROR (MSE) for regressor based on DT for FOLD 28 : 476858.0\n",
      "Mean Squared ERROR (MSE) for regressor based on DT for FOLD 29 : 847230.4705882353\n",
      "Mean Squared ERROR (MSE) for regressor based on DT for FOLD 30 : 493621.17647058825\n",
      "Mean Squared ERROR (MSE) for regressor based on DT for FOLD 31 : 994438.0\n",
      "Mean Squared ERROR (MSE) for regressor based on DT for FOLD 32 : 439355.76470588235\n",
      "Mean Squared ERROR (MSE) for regressor based on DT for FOLD 33 : 1304789.4705882352\n",
      "Mean Squared ERROR (MSE) for regressor based on DT for FOLD 34 : 365539.23529411765\n",
      "Mean Squared ERROR (MSE) for regressor based on DT for FOLD 35 : 480672.9411764706\n",
      "Mean Squared ERROR (MSE) for regressor based on DT for FOLD 36 : 1334809.1764705882\n",
      "Mean Squared ERROR (MSE) for regressor based on DT for FOLD 37 : 194731.5294117647\n",
      "Mean Squared ERROR (MSE) for regressor based on DT for FOLD 38 : 708844.1176470588\n",
      "Mean Squared ERROR (MSE) for regressor based on DT for FOLD 39 : 422038.4705882353\n",
      "Mean Squared ERROR (MSE) for regressor based on DT for FOLD 40 : 817193.0\n",
      "Mean Squared ERROR (MSE) for regressor based on DT for FOLD 41 : 565288.7647058824\n",
      "Mean Squared ERROR (MSE) for regressor based on DT for FOLD 42 : 309620.35294117645\n",
      "Mean Squared ERROR (MSE) for regressor based on DT for FOLD 43 : 644490.8823529412\n",
      "\n",
      "Performing of  Support Vector Machine(SVM) with K-fold cross-validaiton on dataset in the day.csv\n",
      "\n",
      "Average MSE over K-fold cross-validation: 799060.5129958962\n",
      "\n",
      "\n",
      "Elapsed Time: 2.249138832092285 seconds\n"
     ]
    }
   ],
   "source": [
    "regDT=Reg_Clsfcn(\"day.csv\",4)\n",
    "clasSVM.DT_regressor(False)\n",
    "clasSVM.performanceOfModelreg(\"Support Vector Machine(SVM)\")"
   ]
  },
  {
   "cell_type": "markdown",
   "id": "0e8df473",
   "metadata": {},
   "source": [
    "# result\n"
   ]
  },
  {
   "cell_type": "markdown",
   "id": "0d1ab3c0",
   "metadata": {},
   "source": [
    "in this model we get too high mse. for me this algorithm overfitted"
   ]
  },
  {
   "cell_type": "code",
   "execution_count": null,
   "id": "e480fd39",
   "metadata": {},
   "outputs": [],
   "source": []
  }
 ],
 "metadata": {
  "kernelspec": {
   "display_name": "Python 3 (ipykernel)",
   "language": "python",
   "name": "python3"
  },
  "language_info": {
   "codemirror_mode": {
    "name": "ipython",
    "version": 3
   },
   "file_extension": ".py",
   "mimetype": "text/x-python",
   "name": "python",
   "nbconvert_exporter": "python",
   "pygments_lexer": "ipython3",
   "version": "3.10.4"
  }
 },
 "nbformat": 4,
 "nbformat_minor": 5
}
